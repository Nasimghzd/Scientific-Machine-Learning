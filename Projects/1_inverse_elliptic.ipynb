{
  "cells": [
    {
      "cell_type": "markdown",
      "metadata": {
        "tags": [],
        "id": "rEiVNfXXnwTe"
      },
      "source": [
        "# Solving an inverse problem"
      ]
    },
    {
      "cell_type": "code",
      "execution_count": 1,
      "metadata": {
        "id": "6GQygt4qnwTf"
      },
      "outputs": [],
      "source": [
        "import numpy as np\n",
        "import torch\n",
        "import tensorboard, datetime\n",
        "import matplotlib.pyplot as plt\n",
        "import torch.nn as nn\n",
        "import sys\n",
        "%matplotlib inline"
      ]
    },
    {
      "cell_type": "markdown",
      "metadata": {
        "id": "K3GXKCEInwTg"
      },
      "source": [
        "## PDE\n",
        "\n",
        "$\\frac{\\partial^2 u}{\\partial x^2} = f(x) \\text{ for } x \\in (0,1)$\n",
        "\n",
        "$u(0) = u(1) = 0$\n",
        "\n",
        "$f(x)$ is unknown, but we are given training samples $\\{x_i,u_i\\}$"
      ]
    },
    {
      "cell_type": "markdown",
      "metadata": {
        "id": "IR1UHxxQnwTg"
      },
      "source": [
        "## Training data"
      ]
    },
    {
      "cell_type": "code",
      "execution_count": 2,
      "metadata": {
        "id": "-sjRtWajnwTh"
      },
      "outputs": [],
      "source": [
        "def u_true(x):\n",
        "    return (1/48)*(8*x*(x**2 - 1) - (3/np.pi**2)*np.sin(4*np.pi*x))"
      ]
    },
    {
      "cell_type": "code",
      "execution_count": 3,
      "metadata": {
        "colab": {
          "base_uri": "https://localhost:8080/",
          "height": 297
        },
        "id": "7pUJ2oZSnwTh",
        "outputId": "e57b68cc-640b-4d5c-ec2f-645df9662f74"
      },
      "outputs": [
        {
          "output_type": "execute_result",
          "data": {
            "text/plain": [
              "Text(0, 0.5, 'y')"
            ]
          },
          "metadata": {},
          "execution_count": 3
        },
        {
          "output_type": "display_data",
          "data": {
            "text/plain": [
              "<Figure size 432x288 with 1 Axes>"
            ],
            "image/png": "[encoded data removed]"
          },
          "metadata": {
            "needs_background": "light"
          }
        }
      ],
      "source": [
        "x_train = np.random.rand(100)\n",
        "u_train = u_true(x_train)\n",
        "plt.plot(x_train, u_train, 'x')\n",
        "plt.xlabel('x')\n",
        "plt.ylabel('y')"
      ]
    },
    {
      "cell_type": "markdown",
      "metadata": {
        "id": "b1MQG0FRnwTi"
      },
      "source": [
        "## Task\n",
        "\n",
        "Use a PINN to find $u(x)$ and $f(x)$"
      ]
    },
    {
      "cell_type": "code",
      "execution_count": 21,
      "metadata": {
        "colab": {
          "base_uri": "https://localhost:8080/"
        },
        "id": "gUC26QognwTi",
        "outputId": "3c9abafd-cfb0-4b61-a9fd-2cfe7e4c1d58"
      },
      "outputs": [
        {
          "output_type": "stream",
          "name": "stderr",
          "text": [
            "/usr/local/lib/python3.7/dist-packages/ipykernel_launcher.py:2: UserWarning: To copy construct from a tensor, it is recommended to use sourceTensor.clone().detach() or sourceTensor.clone().detach().requires_grad_(True), rather than torch.tensor(sourceTensor).\n",
            "  \n"
          ]
        }
      ],
      "source": [
        "xv = torch.linspace(0, 1, 100).float().unsqueeze(1)\n",
        "x_train = torch.tensor(x_train).float().unsqueeze(1)\n",
        "\n",
        "class ffnn(nn.Module):\n",
        "    \"\"\"basic FF network for approximating functions\"\"\"\n",
        "    def __init__(self, nn_width=10, num_hidden=2):\n",
        "        super().__init__()\n",
        "        \n",
        "        self.layer_first = nn.Linear(1, nn_width)\n",
        "        \n",
        "        layers = []\n",
        "        for _ in range(num_hidden):\n",
        "            layers.append(nn.Linear(nn_width, nn_width))\n",
        "        self.layer_hidden = nn.ModuleList(layers)\n",
        "        \n",
        "        self.layer_last_u = nn.Linear(nn_width, 1)\n",
        "        self.layer_last_f = nn.Linear(nn_width, 1)\n",
        "        \n",
        "    def forward(self, x):\n",
        "        #x = x.unsqueeze(1)\n",
        "        activation = nn.Tanh()\n",
        "        u = activation(self.layer_first(x))\n",
        "        for hidden in self.layer_hidden:\n",
        "            u = activation(hidden(u))\n",
        "        #print(u.shape)\n",
        "        out_u = self.layer_last_u(u)\n",
        "        out_f = self.layer_last_f(u)\n",
        "        #print(out_u.shape, out_f.shape)\n",
        "        return out_u, out_f\n",
        "\n",
        "model = ffnn(15, 1)\n",
        "\n",
        "def loss_function(model, x_t, xv):\n",
        "\n",
        "  x = torch.tensor(x_t)\n",
        "  _, out_f_t = model(x)\n",
        "\n",
        "\n",
        "  x_grad = torch.tensor(xv, requires_grad=True)\n",
        "  out_u_grad, out_f_grad = model(x_grad)\n",
        "  \n",
        "  dudx = torch.autograd.grad(out_u_grad, x_grad, grad_outputs=torch.ones_like(x_grad), create_graph=True, retain_graph=True)[0]\n",
        "\n",
        "  dudxx = torch.autograd.grad(dudx, x_grad, grad_outputs=torch.ones_like(x_grad), create_graph=True, retain_graph=True)[0]\n",
        "\n",
        "  f_loss = ((out_f_t - u_true(x)) ** 2).mean()\n",
        "  phys_loss = ((dudxx - out_f_grad) ** 2).mean()\n",
        "\n",
        "  phys_loss = phys_loss + f_loss*100\n",
        "  return phys_loss"
      ]
    },
    {
      "cell_type": "markdown",
      "source": [
        "# Training"
      ],
      "metadata": {
        "id": "yl_iyUZC5ppH"
      }
    },
    {
      "cell_type": "code",
      "source": [
        "n_epochs = 20000\n",
        "lr = 2.5e-3\n",
        "loss_history = []\n",
        "opt = torch.optim.Adam(model.parameters(), lr)\n",
        "\n",
        "\n",
        "for i in range(n_epochs):\n",
        "\n",
        "    loss = loss_function(model, x_train, xv)\n",
        "    \n",
        "    opt.zero_grad()\n",
        "    \n",
        "    \n",
        "    loss.backward()\n",
        "    opt.step()\n",
        "\n",
        "    if i % 1000 == 0:\n",
        "        print(f'epoch {i}, loss = {loss}')\n",
        "        loss_history.append(loss.item())"
      ],
      "metadata": {
        "colab": {
          "base_uri": "https://localhost:8080/"
        },
        "id": "Jtu9FUg45r8q",
        "outputId": "bb23512d-c762-4679-d5e7-c083a5f92779"
      },
      "execution_count": 22,
      "outputs": [
        {
          "output_type": "stream",
          "name": "stderr",
          "text": [
            "/usr/local/lib/python3.7/dist-packages/ipykernel_launcher.py:35: UserWarning: To copy construct from a tensor, it is recommended to use sourceTensor.clone().detach() or sourceTensor.clone().detach().requires_grad_(True), rather than torch.tensor(sourceTensor).\n",
            "/usr/local/lib/python3.7/dist-packages/ipykernel_launcher.py:39: UserWarning: To copy construct from a tensor, it is recommended to use sourceTensor.clone().detach() or sourceTensor.clone().detach().requires_grad_(True), rather than torch.tensor(sourceTensor).\n"
          ]
        },
        {
          "output_type": "stream",
          "name": "stdout",
          "text": [
            "epoch 0, loss = 0.8510638475418091\n",
            "epoch 1000, loss = 0.0013667811872437596\n",
            "epoch 2000, loss = 0.0012308746809139848\n",
            "epoch 3000, loss = 0.0011754129081964493\n",
            "epoch 4000, loss = 0.0011527854949235916\n",
            "epoch 5000, loss = 0.0010983024258166552\n",
            "epoch 6000, loss = 0.0010515706380829215\n",
            "epoch 7000, loss = 0.0009887467604130507\n",
            "epoch 8000, loss = 0.0008975075324997306\n",
            "epoch 9000, loss = 0.0007353224791586399\n",
            "epoch 10000, loss = 0.000347201363183558\n",
            "epoch 11000, loss = 4.567447831504978e-05\n",
            "epoch 12000, loss = 2.23006045416696e-05\n",
            "epoch 13000, loss = 1.4959660802560393e-05\n",
            "epoch 14000, loss = 1.0197331903327722e-05\n",
            "epoch 15000, loss = 1.4371384168043733e-05\n",
            "epoch 16000, loss = 1.0343483154429123e-05\n",
            "epoch 17000, loss = 5.554400104301749e-06\n",
            "epoch 18000, loss = 5.038121344114188e-06\n",
            "epoch 19000, loss = 5.252166374702938e-06\n"
          ]
        }
      ]
    },
    {
      "cell_type": "code",
      "source": [
        "with torch.no_grad():\n",
        "  x = torch.tensor(x_train)\n",
        "  _, out_f_t = model(x)\n",
        "\n",
        "plt.figure()\n",
        "plt.plot(x_train.flatten(), out_f_t.flatten().numpy(),'ro', label = 'Predicted')\n",
        "plt.plot(x_train.flatten(), u_train, 'x', label = 'Ground Truth')\n",
        "plt.legend()\n",
        "plt.show()\n",
        "\n",
        "plt.figure()\n",
        "plt.plot([1000*i for i in range(len(loss_history))], loss_history)\n",
        "plt.ylabel('Loss')\n",
        "plt.xlabel('Number of Epochs')\n",
        "plt.yscale('log')\n",
        "plt.title('Training Loss')\n",
        "plt.show()\n",
        "\n"
      ],
      "metadata": {
        "colab": {
          "base_uri": "https://localhost:8080/",
          "height": 599
        },
        "id": "gSYG8s2t_Hjj",
        "outputId": "28515c3a-b3bd-43b4-a448-d836b934b58f"
      },
      "execution_count": 24,
      "outputs": [
        {
          "output_type": "stream",
          "name": "stderr",
          "text": [
            "/usr/local/lib/python3.7/dist-packages/ipykernel_launcher.py:2: UserWarning: To copy construct from a tensor, it is recommended to use sourceTensor.clone().detach() or sourceTensor.clone().detach().requires_grad_(True), rather than torch.tensor(sourceTensor).\n",
            "  \n"
          ]
        },
        {
          "output_type": "display_data",
          "data": {
            "text/plain": [
              "<Figure size 432x288 with 1 Axes>"
            ],
            "image/png": "[encoded data removed]"
          },
          "metadata": {
            "needs_background": "light"
          }
        },
        {
          "output_type": "display_data",
          "data": {
            "text/plain": [
              "<Figure size 432x288 with 1 Axes>"
            ],
            "image/png": "[encoded data removed]"
          },
          "metadata": {
            "needs_background": "light"
          }
        }
      ]
    }
  ],
  "metadata": {
    "kernelspec": {
      "display_name": "Python 3 (ipykernel)",
      "language": "python",
      "name": "python3"
    },
    "language_info": {
      "codemirror_mode": {
        "name": "ipython",
        "version": 3
      },
      "file_extension": ".py",
      "mimetype": "text/x-python",
      "name": "python",
      "nbconvert_exporter": "python",
      "pygments_lexer": "ipython3",
      "version": "3.9.12"
    },
    "colab": {
      "provenance": [],
      "collapsed_sections": []
    }
  },
  "nbformat": 4,
  "nbformat_minor": 0
}